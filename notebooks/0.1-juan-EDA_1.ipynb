{
 "cells": [
  {
   "cell_type": "markdown",
   "metadata": {},
   "source": [
    "# Milka and Toblerone"
   ]
  },
  {
   "cell_type": "markdown",
   "metadata": {},
   "source": [
    "From your description, it seems like you're trying to understand the energy consumption associated with the production of the packaging for two products: Milka and Toblerone. The energy consumption is measured in kilowatt-hours (kWh) and you're provided with data for the energy usage of various machines involved in the process (printing, die cutting, gluing) for both products.\n",
    "\n",
    "The unit \"kWh per batch or per unit of product\" could refer to the amount of energy used to produce a certain quantity (or batch) of product or the energy used to produce each individual unit of product.\n",
    "\n",
    "From the provided information, we know the total energy consumed (in kW) and the total time of operation (in hours) for each machine for both products. Therefore, we can compute the average energy consumption rate (in kWh) for each machine during its operation.\n",
    "\n",
    "The \"12 pcs\" and \"6 pcs\" could be referring to the number of units (in this case, packages) that are being processed in a single batch. In the context of Milka, 1.114.500 sheets are processed for \"12 pcs\" (or batches) and 70.550 sheets for \"6 pcs\" (or batches).\n",
    "\n",
    "Given this, we can create a dataframe that captures this information. For instance, this might look like:"
   ]
  },
  {
   "cell_type": "code",
   "execution_count": null,
   "metadata": {},
   "outputs": [],
   "source": [
    "import pandas as pd"
   ]
  },
  {
   "cell_type": "code",
   "execution_count": null,
   "metadata": {},
   "outputs": [],
   "source": [
    "# Initialize data\n",
    "data = {\n",
    "    'Process': ['Printing', 'Die Cutting', 'Gluing', 'Printing', 'Die Cutting'],\n",
    "    'Machine': ['HP Indigo 30.000', 'Flatbed die-cutter', 'Gluing Machine', 'HP Indigo 30.000', 'Flatbed die-cutter'],\n",
    "    'Product': ['Milka', 'Milka', 'Milka', 'Toblerone', 'Toblerone'],\n",
    "    'Units per Batch': [12, 12, 12, 2, 2],\n",
    "    'Energy Consumption (kW)': [107700, 10720, 107700, 11000, 600],\n",
    "    'Hours of Operation': [1013, 250, 133, 110, 15]\n",
    "}\n",
    "\n",
    "# Create DataFrame\n",
    "df = pd.DataFrame(data)\n",
    "\n",
    "# Add column for Energy Consumption rate (kWh per hour)\n",
    "df['Energy Consumption Rate (kWh/hour)'] = df['Energy Consumption (kW)'] / df['Hours of Operation']\n",
    "\n",
    "df\n"
   ]
  }
 ],
 "metadata": {
  "kernelspec": {
   "display_name": "energy-carbon-emissions-analysis-env",
   "language": "python",
   "name": "python3"
  },
  "language_info": {
   "name": "python",
   "version": "3.10.9"
  },
  "orig_nbformat": 4
 },
 "nbformat": 4,
 "nbformat_minor": 2
}
